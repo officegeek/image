{
 "cells": [
  {
   "cell_type": "markdown",
   "metadata": {},
   "source": [
    "## Tight and Loos coupling\n",
    "## High Coupling"
   ]
  },
  {
   "cell_type": "code",
   "execution_count": null,
   "metadata": {},
   "outputs": [],
   "source": [
    "# A function tightly coupled to an object\n",
    "\n",
    "class Book_T:\n",
    "    def __init__(self, title, subtitle, author):\n",
    "        self.title = title\n",
    "        self.subtitle = subtitle\n",
    "        self.author = author\n",
    "\n",
    "    def display_book_info(book):\n",
    "        print(f'{book.title}: {book.subtitle} by {book.author}')\n"
   ]
  },
  {
   "cell_type": "code",
   "execution_count": null,
   "metadata": {},
   "outputs": [],
   "source": [
    "Book_1 = Book_T(\"Python Crash Course\", \"A Hands-On Introduction\", \"Eric Matthes\")\n",
    "print(Book_1.title)\n",
    "print(Book_1.subtitle)\n",
    "print(Book_1.author)"
   ]
  },
  {
   "cell_type": "code",
   "execution_count": null,
   "metadata": {},
   "outputs": [],
   "source": [
    "Book_1.display_book_info()"
   ]
  },
  {
   "cell_type": "markdown",
   "metadata": {},
   "source": [
    "## Low Coupling"
   ]
  },
  {
   "cell_type": "code",
   "execution_count": null,
   "metadata": {},
   "outputs": [],
   "source": [
    "# Reducing coupling by increasing cohesion\n",
    "\n",
    "class Book_L:\n",
    "    def __init__(self, title, subtitle, author):\n",
    "        self.title = title\n",
    "        self.subtitle = subtitle\n",
    "        self.author = author\n",
    "\n",
    "    def display_info(self):\n",
    "        print(f'{self.title}: {self.subtitle} by {self.author}')\n"
   ]
  },
  {
   "cell_type": "code",
   "execution_count": null,
   "metadata": {},
   "outputs": [],
   "source": [
    "Book_2 = Book_L(\"Python Crash Course\", \"A Hands-On Introduction\", \"Eric Matthes\")\n",
    "print(Book_1.title)\n",
    "print(Book_1.subtitle)\n",
    "print(Book_1.author)"
   ]
  },
  {
   "cell_type": "code",
   "execution_count": null,
   "metadata": {},
   "outputs": [],
   "source": [
    "Book_2.display_info()"
   ]
  }
 ],
 "metadata": {
  "kernelspec": {
   "display_name": "Python 3",
   "language": "python",
   "name": "python3"
  },
  "language_info": {
   "codemirror_mode": {
    "name": "ipython",
    "version": 3
   },
   "file_extension": ".py",
   "mimetype": "text/x-python",
   "name": "python",
   "nbconvert_exporter": "python",
   "pygments_lexer": "ipython3",
   "version": "3.9.1"
  }
 },
 "nbformat": 4,
 "nbformat_minor": 4
}
