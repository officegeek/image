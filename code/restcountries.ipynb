{
 "cells": [
  {
   "cell_type": "markdown",
   "metadata": {},
   "source": [
    "# Api\n",
    "## https://restcountries.eu\n",
    "python-restcountries\n",
    "https://pypi.org/project/python-restcountries/"
   ]
  },
  {
   "cell_type": "code",
   "execution_count": null,
   "metadata": {},
   "outputs": [],
   "source": [
    "# Install\n",
    "!pip install python-restcountries"
   ]
  },
  {
   "cell_type": "code",
   "execution_count": 10,
   "metadata": {},
   "outputs": [],
   "source": [
    "# From restcountries import RestCountryApi as rapi\n",
    "from restcountries import RestCountryApiV2 as rapi\n",
    "\n",
    "# Get Denmark info\n",
    "country_list = rapi.get_countries_by_name('Denmark')"
   ]
  },
  {
   "cell_type": "code",
   "execution_count": 14,
   "metadata": {},
   "outputs": [
    {
     "name": "stdout",
     "output_type": "stream",
     "text": [
      "Denmark\n",
      "Copenhagen\n",
      "['45']\n",
      "5717014\n",
      "https://restcountries.eu/data/dnk.svg\n",
      "[{'iso639_1': 'da', 'iso639_2': 'dan', 'name': 'Danish', 'nativeName': 'dansk'}]\n",
      "['UTC-04:00', 'UTC-03:00', 'UTC-01:00', 'UTC', 'UTC+01:00']\n"
     ]
    }
   ],
   "source": [
    "# Print information\n",
    "country = country_list[0]\n",
    "print(country.name)\n",
    "print(country.capital)\n",
    "print(country.calling_codes)\n",
    "print(country.population)\n",
    "print(country.flag)\n",
    "print(country.languages)"
   ]
  },
  {
   "cell_type": "code",
   "execution_count": null,
   "metadata": {},
   "outputs": [],
   "source": []
  }
 ],
 "metadata": {
  "kernelspec": {
   "display_name": "Python 3",
   "language": "python",
   "name": "python3"
  },
  "language_info": {
   "codemirror_mode": {
    "name": "ipython",
    "version": 3
   },
   "file_extension": ".py",
   "mimetype": "text/x-python",
   "name": "python",
   "nbconvert_exporter": "python",
   "pygments_lexer": "ipython3",
   "version": "3.9.1"
  }
 },
 "nbformat": 4,
 "nbformat_minor": 4
}
